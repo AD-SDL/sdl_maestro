{
 "cells": [
  {
   "cell_type": "code",
   "execution_count": 5,
   "source": [
    "#!/usr/bin/env python3\n",
    "import rospy\n",
    "import copy\n",
    "\n",
    "import time\n",
    "\n",
    "from actionlib import SimpleActionClient\n",
    "import geometry_msgs.msg\n",
    "import move_base_msgs.msg\n",
    "\n",
    "from collections import OrderedDict\n",
    "from tf.transformations import quaternion_from_euler\n",
    "\n",
    "import numpy as np\n",
    "\n",
    "tf_prefix = ''\n",
    "static_transforms = OrderedDict()"
   ],
   "outputs": [],
   "metadata": {}
  },
  {
   "cell_type": "code",
   "execution_count": 6,
   "source": [
    "def room_pos(x,y,th):\n",
    "    pose = geometry_msgs.msg.PoseStamped()\n",
    "    pose.header.frame_id = \"map\"\n",
    "\n",
    "    #angle = quaternion_from_euler(0, 0, th)\n",
    "    #print(angle)\n",
    "    pose.pose.position.x = x\n",
    "    pose.pose.position.y = y\n",
    "    pose.pose.position.z = 0.0\n",
    "    pose.pose.orientation.x = .0\n",
    "    pose.pose.orientation.y = .0\n",
    "    pose.pose.orientation.z = np.sin(th/2)\n",
    "    pose.pose.orientation.w = np.cos(th/2)\n",
    "    print(pose)\n",
    "    return pose \n",
    "\n",
    "def move(x,y,th):\n",
    "    pose = room_pos(x,y,th)\n",
    "    \n",
    "    position_goal.publish(pose)\n",
    "    rospy.spin()"
   ],
   "outputs": [],
   "metadata": {}
  },
  {
   "cell_type": "code",
   "execution_count": 7,
   "source": [
    "rospy.init_node('mir_move_test')\n",
    "time.sleep(1)\n",
    "position_goal = rospy.Publisher(\"move_base_simple/goal\", geometry_msgs.msg.PoseStamped, queue_size=10)"
   ],
   "outputs": [],
   "metadata": {}
  },
  {
   "cell_type": "code",
   "execution_count": null,
   "source": [
    "move(16.330,22.378,0)"
   ],
   "outputs": [
    {
     "output_type": "stream",
     "name": "stdout",
     "text": [
      "header: \n",
      "  seq: 0\n",
      "  stamp: \n",
      "    secs: 0\n",
      "    nsecs:         0\n",
      "  frame_id: \"map\"\n",
      "pose: \n",
      "  position: \n",
      "    x: 16.33\n",
      "    y: 22.378\n",
      "    z: 0.0\n",
      "  orientation: \n",
      "    x: 0.0\n",
      "    y: 0.0\n",
      "    z: 0.8509035245341184\n",
      "    w: 0.5253219888177297\n"
     ]
    }
   ],
   "metadata": {}
  },
  {
   "cell_type": "code",
   "execution_count": null,
   "source": [],
   "outputs": [],
   "metadata": {}
  }
 ],
 "metadata": {
  "kernelspec": {
   "name": "python3",
   "display_name": "Python 3.8.10 64-bit"
  },
  "language_info": {
   "codemirror_mode": {
    "name": "ipython",
    "version": 3
   },
   "file_extension": ".py",
   "mimetype": "text/x-python",
   "name": "python",
   "nbconvert_exporter": "python",
   "pygments_lexer": "ipython3",
   "version": "3.8.10"
  },
  "interpreter": {
   "hash": "916dbcbb3f70747c44a77c7bcd40155683ae19c65e1c03b4aa3499c5328201f1"
  }
 },
 "nbformat": 4,
 "nbformat_minor": 4
}